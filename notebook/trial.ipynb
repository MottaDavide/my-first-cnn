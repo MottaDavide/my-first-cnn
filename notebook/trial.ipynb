{
 "cells": [
  {
   "cell_type": "code",
   "execution_count": 4,
   "metadata": {},
   "outputs": [
    {
     "name": "stdout",
     "output_type": "stream",
     "text": [
      "Not running on a Databricks cluster.\n"
     ]
    }
   ],
   "source": [
    "import os\n",
    "\n",
    "def is_running_on_databricks():\n",
    "    # Databricks sets unique environment variables, such as \"DATABRICKS_RUNTIME_VERSION\"\n",
    "    return \"DATABRICKS_RUNTIME_VERSION\" in os.environ\n",
    "\n",
    "if is_running_on_databricks():\n",
    "    print(\"Running on a Databricks cluster.\")\n",
    "else:\n",
    "    print(\"Not running on a Databricks cluster.\")\n"
   ]
  },
  {
   "cell_type": "code",
   "execution_count": 2,
   "metadata": {},
   "outputs": [
    {
     "data": {
      "text/plain": [
       "False"
      ]
     },
     "execution_count": 2,
     "metadata": {},
     "output_type": "execute_result"
    }
   ],
   "source": []
  },
  {
   "cell_type": "code",
   "execution_count": 3,
   "metadata": {},
   "outputs": [
    {
     "data": {
      "text/plain": [
       "'arm'"
      ]
     },
     "execution_count": 3,
     "metadata": {},
     "output_type": "execute_result"
    }
   ],
   "source": []
  }
 ],
 "metadata": {
  "kernelspec": {
   "display_name": "Python 3",
   "language": "python",
   "name": "python3"
  },
  "language_info": {
   "codemirror_mode": {
    "name": "ipython",
    "version": 3
   },
   "file_extension": ".py",
   "mimetype": "text/x-python",
   "name": "python",
   "nbconvert_exporter": "python",
   "pygments_lexer": "ipython3",
   "version": "3.11.4"
  }
 },
 "nbformat": 4,
 "nbformat_minor": 2
}
